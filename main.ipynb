{
 "cells": [
  {
   "cell_type": "code",
   "execution_count": 4,
   "metadata": {},
   "outputs": [],
   "source": [
    "import yfinance as yf\n",
    "from curve import *\n",
    "from balancer import *\n",
    "from gmx import *\n",
    "\n",
    "import os\n",
    "import pandas as pd\n",
    "import matplotlib.pyplot as plt\n",
    "import numpy as np\n",
    "import seaborn as sns\n",
    "\n",
    "# To get new data, delete the existing file in 'eth' folder\n",
    "def get_eth_price():\n",
    "    eth_folder = 'eth'\n",
    "    eth_file = os.path.join(eth_folder, 'eth_price_data.csv')\n",
    "\n",
    "    # Check if the ETH price data file exists\n",
    "    if not os.path.exists(eth_file):\n",
    "        # If the file doesn't exist, download the ETH price data\n",
    "        print(\"ETH price data not found. Downloading from yfinance...\")\n",
    "        end_date = (datetime.now() - timedelta(1)).strftime('%Y-%m-%d')\n",
    "        eth_data = yf.download('ETH-USD', start='2020-01-01', end=end_date)\n",
    "        eth_data.reset_index(inplace=True)\n",
    "        eth_data = eth_data.rename(columns={'Date': 'timestamp', 'Adj Close': 'eth_price'})\n",
    "        eth_data = eth_data[['timestamp', 'eth_price']]\n",
    "        eth_data['timestamp'] = eth_data['timestamp'].dt.strftime('%Y-%m-%d')\n",
    "\n",
    "        # Save the data to the eth folder\n",
    "        if not os.path.exists(eth_folder):\n",
    "            os.makedirs(eth_folder)\n",
    "        eth_data.to_csv(eth_file, index=False)\n",
    "    else:\n",
    "        # If the file exists, load the data from the file\n",
    "        eth_data = pd.read_csv(eth_file)\n",
    "\n",
    "    return eth_data\n",
    "\n",
    "crv_df = merge_crv_data()\n",
    "gmx_df = merge_gmx_data()\n",
    "bal_df = merge_bal_data()\n",
    "\n",
    "eth_df = get_eth_price()\n",
    "\n",
    "# Add token_name column to each DataFrame\n",
    "crv_df['token_name'] = 'CRV'\n",
    "gmx_df['token_name'] = 'GMX'\n",
    "bal_df['token_name'] = 'BAL'\n",
    "\n",
    "# Concatenate the DataFrames\n",
    "combined_df = pd.concat([crv_df, gmx_df, bal_df])\n",
    "\n",
    "# Merge with ETH price data\n",
    "combined_df = pd.merge(combined_df, eth_df, on='timestamp', how='left')\n",
    "\n",
    "# Print the combined DataFrame info to verify\n",
    "print(combined_df.info())\n",
    "print(combined_df.head())"
   ]
  },
  {
   "cell_type": "code",
   "execution_count": null,
   "metadata": {},
   "outputs": [],
   "source": []
  }
 ],
 "metadata": {
  "kernelspec": {
   "display_name": "Python 3",
   "language": "python",
   "name": "python3"
  },
  "language_info": {
   "codemirror_mode": {
    "name": "ipython",
    "version": 3
   },
   "file_extension": ".py",
   "mimetype": "text/x-python",
   "name": "python",
   "nbconvert_exporter": "python",
   "pygments_lexer": "ipython3",
   "version": "3.10.6"
  }
 },
 "nbformat": 4,
 "nbformat_minor": 2
}
